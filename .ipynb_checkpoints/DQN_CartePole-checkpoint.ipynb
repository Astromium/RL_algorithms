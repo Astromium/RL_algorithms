{
 "cells": [
  {
   "cell_type": "markdown",
   "id": "6d6efeff-c359-4c4a-9c0f-186f9a711af1",
   "metadata": {},
   "source": [
    "### DQN (Deep Q-Learning)\n",
    "This notebook implements the DQN algorithm that learn to solve the CartePole environement using Pytorch"
   ]
  },
  {
   "cell_type": "code",
   "execution_count": 21,
   "id": "ecc01289-50bc-4037-9f82-fb4957aa36cd",
   "metadata": {},
   "outputs": [],
   "source": [
    "# Hyperparameters\n",
    "GAMMA = 0.99\n",
    "BATCH_SIZE = 32\n",
    "BUFFER_SIZE = 50000\n",
    "MIN_REPLAY_SIZE = 1000\n",
    "EPS_START = 1.0\n",
    "EPS_END = 0.02\n",
    "EPS_DECAY = 10000\n",
    "TARGET_UPDATE_FREQ = 1000\n",
    "N_STEPS = 25000"
   ]
  },
  {
   "cell_type": "code",
   "execution_count": 3,
   "id": "06119118-ad63-4523-9d60-cc4440cc7e44",
   "metadata": {},
   "outputs": [],
   "source": [
    "import torch\n",
    "import torch.nn as nn\n",
    "import gymnasium as gym\n",
    "from collections import deque\n",
    "import itertools\n",
    "import numpy as np\n",
    "import random\n",
    "import tqdm"
   ]
  },
  {
   "cell_type": "code",
   "execution_count": 15,
   "id": "116d13a4-5206-42a4-ae00-192e1d8b97bc",
   "metadata": {},
   "outputs": [],
   "source": [
    "class Network(nn.Module):\n",
    "    def __init__(self, env):\n",
    "        super(Network, self).__init__()\n",
    "        in_features = int(np.prod(env.observation_space.shape))\n",
    "        self.net = nn.Sequential(\n",
    "            nn.Linear(in_features, 64),\n",
    "            nn.Tanh(),\n",
    "            nn.Linear(64, env.action_space.n)\n",
    "        )\n",
    "\n",
    "    def forward(self, x):\n",
    "        return self.net(x)\n",
    "\n",
    "    def act(self, state):\n",
    "        state = torch.as_tensor(state).float().unsqueeze(0)\n",
    "        q_values = self.forward(state)\n",
    "        max_q_idx = torch.argmax(q_values, dim=1)[0]\n",
    "        action = max_q_idx.item()\n",
    "        return action"
   ]
  },
  {
   "cell_type": "code",
   "execution_count": 22,
   "id": "ecac3b88-2183-4258-b468-b0c2ae447b17",
   "metadata": {},
   "outputs": [],
   "source": [
    "env = gym.make(\"CartPole-v1\")\n",
    "replay_buffer = deque(maxlen=BUFFER_SIZE)\n",
    "reward_buffer = deque([0.0], maxlen=100)\n",
    "episode_reward = 0.0"
   ]
  },
  {
   "cell_type": "code",
   "execution_count": 23,
   "id": "e6637783-bf63-41d7-ab5c-1b9f532fdf8d",
   "metadata": {},
   "outputs": [
    {
     "data": {
      "text/plain": [
       "<All keys matched successfully>"
      ]
     },
     "execution_count": 23,
     "metadata": {},
     "output_type": "execute_result"
    }
   ],
   "source": [
    "online_net = Network(env)\n",
    "target_net = Network(env)\n",
    "\n",
    "target_net.load_state_dict(online_net.state_dict())"
   ]
  },
  {
   "cell_type": "code",
   "execution_count": 24,
   "id": "d80d555f-6bac-4877-be0a-e8dd7ced0086",
   "metadata": {},
   "outputs": [],
   "source": [
    "optimizer = torch.optim.Adam(online_net.parameters(), lr=5e-4) "
   ]
  },
  {
   "cell_type": "code",
   "execution_count": 25,
   "id": "5a01ee20-9b49-4330-b51a-6e8c036f98c8",
   "metadata": {},
   "outputs": [],
   "source": [
    "# Initialize the relay buffer \n",
    "obs = env.reset()[0]\n",
    "for _ in range(MIN_REPLAY_SIZE):\n",
    "    action = env.action_space.sample()\n",
    "    new_obs, reward, terminated, truncated, _ = env.step(action)\n",
    "    transition = (obs, action, reward, terminated, truncated, new_obs)\n",
    "    replay_buffer.append(transition)\n",
    "    obs = new_obs\n",
    "    if terminated or truncated:\n",
    "        obs = env.reset()[0]"
   ]
  },
  {
   "cell_type": "code",
   "execution_count": 26,
   "id": "cf194f97-36c7-4540-848c-3e29cdbfb40b",
   "metadata": {},
   "outputs": [
    {
     "name": "stderr",
     "output_type": "stream",
     "text": [
      "  0%|                                                                              | 38/25000 [00:00<01:07, 369.06it/s]"
     ]
    },
    {
     "name": "stdout",
     "output_type": "stream",
     "text": [
      "Step 0, Average Reward : 0.0\n"
     ]
    },
    {
     "name": "stderr",
     "output_type": "stream",
     "text": [
      "  4%|███▎                                                                        | 1107/25000 [00:02<00:48, 490.72it/s]"
     ]
    },
    {
     "name": "stdout",
     "output_type": "stream",
     "text": [
      "Step 1000, Average Reward : 23.0\n"
     ]
    },
    {
     "name": "stderr",
     "output_type": "stream",
     "text": [
      "  8%|██████▎                                                                     | 2087/25000 [00:04<00:45, 499.04it/s]"
     ]
    },
    {
     "name": "stdout",
     "output_type": "stream",
     "text": [
      "Step 2000, Average Reward : 20.13131313131313\n"
     ]
    },
    {
     "name": "stderr",
     "output_type": "stream",
     "text": [
      " 12%|█████████▎                                                                  | 3055/25000 [00:06<00:45, 485.96it/s]"
     ]
    },
    {
     "name": "stdout",
     "output_type": "stream",
     "text": [
      "Step 3000, Average Reward : 21.22\n"
     ]
    },
    {
     "name": "stderr",
     "output_type": "stream",
     "text": [
      " 16%|████████████▎                                                               | 4057/25000 [00:08<00:44, 472.36it/s]"
     ]
    },
    {
     "name": "stdout",
     "output_type": "stream",
     "text": [
      "Step 4000, Average Reward : 25.01\n"
     ]
    },
    {
     "name": "stderr",
     "output_type": "stream",
     "text": [
      " 20%|███████████████▎                                                            | 5053/25000 [00:10<00:40, 487.96it/s]"
     ]
    },
    {
     "name": "stdout",
     "output_type": "stream",
     "text": [
      "Step 5000, Average Reward : 31.38\n"
     ]
    },
    {
     "name": "stderr",
     "output_type": "stream",
     "text": [
      " 24%|██████████████████▍                                                         | 6073/25000 [00:12<00:39, 476.19it/s]"
     ]
    },
    {
     "name": "stdout",
     "output_type": "stream",
     "text": [
      "Step 6000, Average Reward : 38.52\n"
     ]
    },
    {
     "name": "stderr",
     "output_type": "stream",
     "text": [
      " 28%|█████████████████████▍                                                      | 7037/25000 [00:14<00:38, 466.56it/s]"
     ]
    },
    {
     "name": "stdout",
     "output_type": "stream",
     "text": [
      "Step 7000, Average Reward : 45.96\n"
     ]
    },
    {
     "name": "stderr",
     "output_type": "stream",
     "text": [
      " 32%|████████████████████████▍                                                   | 8054/25000 [00:17<00:38, 438.77it/s]"
     ]
    },
    {
     "name": "stdout",
     "output_type": "stream",
     "text": [
      "Step 8000, Average Reward : 53.91\n"
     ]
    },
    {
     "name": "stderr",
     "output_type": "stream",
     "text": [
      " 36%|███████████████████████████▌                                                | 9074/25000 [00:19<00:35, 447.04it/s]"
     ]
    },
    {
     "name": "stdout",
     "output_type": "stream",
     "text": [
      "Step 9000, Average Reward : 62.34\n"
     ]
    },
    {
     "name": "stderr",
     "output_type": "stream",
     "text": [
      " 40%|██████████████████████████████▎                                            | 10095/25000 [00:21<00:32, 459.10it/s]"
     ]
    },
    {
     "name": "stdout",
     "output_type": "stream",
     "text": [
      "Step 10000, Average Reward : 71.0\n"
     ]
    },
    {
     "name": "stderr",
     "output_type": "stream",
     "text": [
      " 44%|█████████████████████████████████▏                                         | 11083/25000 [00:23<00:31, 446.18it/s]"
     ]
    },
    {
     "name": "stdout",
     "output_type": "stream",
     "text": [
      "Step 11000, Average Reward : 79.93\n"
     ]
    },
    {
     "name": "stderr",
     "output_type": "stream",
     "text": [
      " 48%|████████████████████████████████████▏                                      | 12056/25000 [00:26<00:28, 453.76it/s]"
     ]
    },
    {
     "name": "stdout",
     "output_type": "stream",
     "text": [
      "Step 12000, Average Reward : 86.52\n"
     ]
    },
    {
     "name": "stderr",
     "output_type": "stream",
     "text": [
      " 52%|███████████████████████████████████████▏                                   | 13064/25000 [00:28<00:26, 457.68it/s]"
     ]
    },
    {
     "name": "stdout",
     "output_type": "stream",
     "text": [
      "Step 13000, Average Reward : 98.47\n"
     ]
    },
    {
     "name": "stderr",
     "output_type": "stream",
     "text": [
      " 56%|██████████████████████████████████████████▏                                | 14076/25000 [00:30<00:23, 466.65it/s]"
     ]
    },
    {
     "name": "stdout",
     "output_type": "stream",
     "text": [
      "Step 14000, Average Reward : 107.24\n"
     ]
    },
    {
     "name": "stderr",
     "output_type": "stream",
     "text": [
      " 60%|█████████████████████████████████████████████▏                             | 15056/25000 [00:32<00:20, 494.75it/s]"
     ]
    },
    {
     "name": "stdout",
     "output_type": "stream",
     "text": [
      "Step 15000, Average Reward : 114.91\n"
     ]
    },
    {
     "name": "stderr",
     "output_type": "stream",
     "text": [
      " 64%|████████████████████████████████████████████████▏                          | 16073/25000 [00:34<00:18, 470.36it/s]"
     ]
    },
    {
     "name": "stdout",
     "output_type": "stream",
     "text": [
      "Step 16000, Average Reward : 124.87\n"
     ]
    },
    {
     "name": "stderr",
     "output_type": "stream",
     "text": [
      " 68%|███████████████████████████████████████████████████▏                       | 17068/25000 [00:36<00:16, 479.09it/s]"
     ]
    },
    {
     "name": "stdout",
     "output_type": "stream",
     "text": [
      "Step 17000, Average Reward : 133.28\n"
     ]
    },
    {
     "name": "stderr",
     "output_type": "stream",
     "text": [
      " 72%|██████████████████████████████████████████████████████▏                    | 18048/25000 [00:39<00:16, 414.86it/s]"
     ]
    },
    {
     "name": "stdout",
     "output_type": "stream",
     "text": [
      "Step 18000, Average Reward : 142.51\n"
     ]
    },
    {
     "name": "stderr",
     "output_type": "stream",
     "text": [
      " 76%|█████████████████████████████████████████████████████████                  | 19036/25000 [00:41<00:13, 451.96it/s]"
     ]
    },
    {
     "name": "stdout",
     "output_type": "stream",
     "text": [
      "Step 19000, Average Reward : 150.29\n"
     ]
    },
    {
     "name": "stderr",
     "output_type": "stream",
     "text": [
      " 80%|████████████████████████████████████████████████████████████▏              | 20050/25000 [00:43<00:10, 459.25it/s]"
     ]
    },
    {
     "name": "stdout",
     "output_type": "stream",
     "text": [
      "Step 20000, Average Reward : 159.39\n"
     ]
    },
    {
     "name": "stderr",
     "output_type": "stream",
     "text": [
      " 84%|███████████████████████████████████████████████████████████████▏           | 21071/25000 [00:45<00:09, 429.56it/s]"
     ]
    },
    {
     "name": "stdout",
     "output_type": "stream",
     "text": [
      "Step 21000, Average Reward : 168.04\n"
     ]
    },
    {
     "name": "stderr",
     "output_type": "stream",
     "text": [
      " 88%|██████████████████████████████████████████████████████████████████▏        | 22073/25000 [00:48<00:06, 454.96it/s]"
     ]
    },
    {
     "name": "stdout",
     "output_type": "stream",
     "text": [
      "Step 22000, Average Reward : 172.87\n"
     ]
    },
    {
     "name": "stderr",
     "output_type": "stream",
     "text": [
      " 92%|█████████████████████████████████████████████████████████████████████▏     | 23075/25000 [00:50<00:04, 447.97it/s]"
     ]
    },
    {
     "name": "stdout",
     "output_type": "stream",
     "text": [
      "Step 23000, Average Reward : 182.9\n"
     ]
    },
    {
     "name": "stderr",
     "output_type": "stream",
     "text": [
      " 96%|████████████████████████████████████████████████████████████████████████▏  | 24075/25000 [00:52<00:02, 454.84it/s]"
     ]
    },
    {
     "name": "stdout",
     "output_type": "stream",
     "text": [
      "Step 24000, Average Reward : 191.87\n"
     ]
    },
    {
     "name": "stderr",
     "output_type": "stream",
     "text": [
      "100%|███████████████████████████████████████████████████████████████████████████| 25000/25000 [00:54<00:00, 457.84it/s]\n"
     ]
    }
   ],
   "source": [
    "# Training Loop\n",
    "obs = env.reset()[0]\n",
    "for step in tqdm.tqdm(range(N_STEPS)):\n",
    "    eps = np.interp(step, [0, EPS_DECAY], [EPS_START, EPS_END])\n",
    "    if random.random() <= eps:\n",
    "        action = env.action_space.sample()\n",
    "    else:\n",
    "        action = online_net.act(obs)\n",
    "    new_obs, reward, terminated, truncated, _ = env.step(action)\n",
    "    transition = (obs, action, reward, terminated, truncated, new_obs)\n",
    "    replay_buffer.append(transition)\n",
    "    obs = new_obs\n",
    "    episode_reward += reward\n",
    "\n",
    "    if terminated or truncated:\n",
    "        obs = env.reset()[0]\n",
    "        reward_buffer.append(episode_reward)\n",
    "        episode_reward = 0.0\n",
    "\n",
    "    # Start the gradient step\n",
    "    # Sample BATCH_SIZE transitions\n",
    "    transitions = random.sample(replay_buffer, BATCH_SIZE)\n",
    "    observations = np.asarray([ts[0] for ts in transitions])\n",
    "    actions = np.asarray([ts[1] for ts in transitions])\n",
    "    rewards = np.asarray([ts[2] for ts in transitions])\n",
    "    terminateds = np.asarray([ts[3] for ts in transitions])\n",
    "    truncateds = np.asarray([ts[4] for ts in transitions])\n",
    "    new_observations = np.asarray([ts[5] for ts in transitions])\n",
    "    # Convert to tensors\n",
    "    observations = torch.as_tensor(observations, dtype=torch.float32)\n",
    "    actions = torch.as_tensor(actions, dtype=torch.int64).unsqueeze(-1)\n",
    "    rewards = torch.as_tensor(rewards, dtype=torch.float32).unsqueeze(-1)\n",
    "    terminateds = torch.as_tensor(terminateds, dtype=torch.float32).unsqueeze(-1)\n",
    "    truncateds = torch.as_tensor(truncateds, dtype=torch.float32).unsqueeze(-1)\n",
    "    new_observations = torch.as_tensor(new_observations, dtype=torch.float32)\n",
    "    target_q_values = target_net(new_observations)\n",
    "    # Get the max of q_values per observation\n",
    "    max_target_q_values = target_q_values.max(dim=1, keepdim=True)[0]\n",
    "    # Calculate the y_j\n",
    "    targets = rewards + GAMMA * (1 - terminateds) * (1 - truncateds) * max_target_q_values\n",
    "    q_values = online_net(observations)\n",
    "    action_q_values = torch.gather(input=q_values, dim=1, index=actions)\n",
    "\n",
    "    loss = nn.functional.smooth_l1_loss(action_q_values, targets)\n",
    "    # Gradient Descent step\n",
    "    optimizer.zero_grad()\n",
    "    loss.backward()\n",
    "    optimizer.step()\n",
    "\n",
    "    # Update the target network\n",
    "    if (step % TARGET_UPDATE_FREQ == 0):\n",
    "        target_net.load_state_dict(online_net.state_dict())\n",
    "    if step % 1000 == 0:\n",
    "        print(f\"Step {step}, Average Reward : {np.mean(reward_buffer)}\")"
   ]
  },
  {
   "cell_type": "code",
   "execution_count": 28,
   "id": "23c7a349-168b-49b1-8c4b-91e25d9246ab",
   "metadata": {},
   "outputs": [],
   "source": [
    "from IPython import display\n",
    "env = gym.make(\"CartPole-v1\", render_mode=\"human\")\n",
    "state = env.reset()[0]\n",
    "for t in range(1000):\n",
    "    env.render()\n",
    "    action = online_net.act(state)\n",
    "    state, reward, terminated, truncated, _ = env.step(action)\n",
    "    if terminated or truncated:\n",
    "        state = env.reset()[0]\n",
    "env.close()"
   ]
  },
  {
   "cell_type": "code",
   "execution_count": null,
   "id": "19c6af2e-9216-4365-9998-8527902ab26c",
   "metadata": {},
   "outputs": [],
   "source": []
  }
 ],
 "metadata": {
  "kernelspec": {
   "display_name": "Python 3 (ipykernel)",
   "language": "python",
   "name": "python3"
  },
  "language_info": {
   "codemirror_mode": {
    "name": "ipython",
    "version": 3
   },
   "file_extension": ".py",
   "mimetype": "text/x-python",
   "name": "python",
   "nbconvert_exporter": "python",
   "pygments_lexer": "ipython3",
   "version": "3.9.5"
  }
 },
 "nbformat": 4,
 "nbformat_minor": 5
}
