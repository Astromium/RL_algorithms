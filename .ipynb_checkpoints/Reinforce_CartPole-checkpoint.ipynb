{
 "cells": [
  {
   "cell_type": "code",
   "execution_count": 2,
   "id": "3d0ef2c5-983d-4efc-b783-0bbf86075530",
   "metadata": {},
   "outputs": [],
   "source": [
    "#import gym\n",
    "import gymnasium as gym\n",
    "import numpy as np\n",
    "from collections import deque\n",
    "import matplotlib.pyplot as plt\n",
    "%matplotlib inline\n",
    "\n",
    "import torch\n",
    "torch.manual_seed(0)\n",
    "import torch.nn as nn\n",
    "import torch.optim as optim\n",
    "import torch.nn.functional as F\n",
    "from torch.distributions import Categorical"
   ]
  },
  {
   "cell_type": "markdown",
   "id": "c247ebd3-edbf-41da-a3ae-b381b9d9c414",
   "metadata": {},
   "source": [
    "### The architecture of the Policy"
   ]
  },
  {
   "cell_type": "code",
   "execution_count": 3,
   "id": "5525917f-5169-4faa-833e-1349338d3c7f",
   "metadata": {},
   "outputs": [
    {
     "name": "stdout",
     "output_type": "stream",
     "text": [
      "Observation space Box([-4.8000002e+00 -3.4028235e+38 -4.1887903e-01 -3.4028235e+38], [4.8000002e+00 3.4028235e+38 4.1887903e-01 3.4028235e+38], (4,), float32)\n",
      "Actions space Discrete(2)\n"
     ]
    }
   ],
   "source": [
    "env = gym.make(\"CartPole-v1\")\n",
    "print(f\"Observation space {env.observation_space}\")\n",
    "print(f\"Actions space {env.action_space}\")"
   ]
  },
  {
   "cell_type": "code",
   "execution_count": 4,
   "id": "b029dea7-ab09-48f3-8db1-54d2300c02cc",
   "metadata": {},
   "outputs": [],
   "source": [
    "class Policy(nn.Module):\n",
    "    def __init__(self, s_size=4, h_size=16, a_size=2):\n",
    "        super(Policy, self).__init__()\n",
    "        self.fc1 = nn.Linear(s_size, h_size)\n",
    "        self.fc2 = nn.Linear(h_size, a_size)\n",
    "\n",
    "    def forward(self, x):\n",
    "        x = F.relu(self.fc1(x))\n",
    "        x = self.fc2(x)\n",
    "        return F.softmax(x, dim=1)\n",
    "\n",
    "    def act(self, state):\n",
    "        # Convert state into torch tensor and add batch dimension\n",
    "        state = torch.from_numpy(state).float().unsqueeze(0)\n",
    "        probs = self.forward(state)\n",
    "        m = Categorical(probs)\n",
    "        action = m.sample()\n",
    "        return action.item(), m.log_prob(action)"
   ]
  },
  {
   "cell_type": "markdown",
   "id": "fc986635-65ef-42c8-aa36-f8e4720bdc7a",
   "metadata": {},
   "source": [
    "### Train the Agent using the Reinforce Algorithm"
   ]
  },
  {
   "cell_type": "code",
   "execution_count": 5,
   "id": "207248a6-dcde-4dd3-a940-d24ceeb7a59f",
   "metadata": {},
   "outputs": [],
   "source": [
    "policy = Policy()\n",
    "optimizer = optim.Adam(policy.parameters(), lr=1e-2)\n",
    "\n",
    "def reinforce(n_episodes, max_t, gamma, print_every):\n",
    "    scores_deque = deque(maxlen=100)\n",
    "    scores = []\n",
    "    for i_episode in range(1, n_episodes+1):\n",
    "        saved_log_probs = []\n",
    "        rewards = []\n",
    "        state = env.reset()[0]\n",
    "        # Generate an episode , save the logprobs of each action at each timestep\n",
    "        for t in range(max_t):\n",
    "            action, log_prob = policy.act(state)\n",
    "            saved_log_probs.append(log_prob)\n",
    "            new_state, reward, terminated, truncated, info = env.step(action)\n",
    "            rewards.append(reward)\n",
    "            state = new_state\n",
    "            if terminated or truncated:\n",
    "                break\n",
    "        scores_deque.append(sum(rewards))\n",
    "        scores.append(sum(rewards))\n",
    "\n",
    "        discounts = [gamma**i for i in range(len(rewards)+1)]\n",
    "        R = sum([a*b for a,b in zip(discounts, rewards)])\n",
    "\n",
    "        policy_loss = []\n",
    "        for log_prob in saved_log_probs:\n",
    "            policy_loss.append(-log_prob * R)\n",
    "        policy_loss = torch.cat(policy_loss).sum()\n",
    "\n",
    "        # Preform gradient descent\n",
    "        optimizer.zero_grad()\n",
    "        policy_loss.backward()\n",
    "        optimizer.step()\n",
    "\n",
    "        if i_episode % print_every == 0:\n",
    "            print(f\"Episode {i_episode}, Average score : {np.mean(scores_deque)}\")\n",
    "        if np.mean(scores_deque) >= 195.0:\n",
    "            print(f\"Environement solved in {i_episode} , Average score : {np.mean(scores_deque)}\")\n",
    "            break\n",
    "    return scores"
   ]
  },
  {
   "cell_type": "code",
   "execution_count": 6,
   "id": "2a6348a2-47ca-4e79-acbc-c1061b462fe1",
   "metadata": {},
   "outputs": [
    {
     "name": "stdout",
     "output_type": "stream",
     "text": [
      "Episode 100, Average score : 30.78\n",
      "Episode 200, Average score : 64.76\n",
      "Episode 300, Average score : 56.7\n",
      "Episode 400, Average score : 47.55\n",
      "Episode 500, Average score : 91.37\n",
      "Episode 600, Average score : 67.88\n",
      "Episode 700, Average score : 71.82\n",
      "Episode 800, Average score : 64.93\n",
      "Episode 900, Average score : 59.16\n",
      "Episode 1000, Average score : 99.3\n",
      "Episode 1100, Average score : 73.44\n",
      "Episode 1200, Average score : 56.0\n",
      "Episode 1300, Average score : 71.92\n",
      "Episode 1400, Average score : 86.04\n",
      "Episode 1500, Average score : 73.25\n",
      "Episode 1600, Average score : 85.89\n",
      "Environement solved in 1653 , Average score : 196.21\n"
     ]
    }
   ],
   "source": [
    "scores = reinforce(n_episodes=2000, max_t=1000, gamma=1.0, print_every=100)"
   ]
  },
  {
   "cell_type": "markdown",
   "id": "7f18362b-755a-4826-b82c-7aa6996dc0f3",
   "metadata": {},
   "source": [
    "### Watch the Agent play"
   ]
  },
  {
   "cell_type": "code",
   "execution_count": 8,
   "id": "df5cfbb9-e712-40a8-a774-ef4abc464664",
   "metadata": {},
   "outputs": [],
   "source": [
    "from IPython import display\n",
    "env = gym.make(\"CartPole-v1\", render_mode=\"human\")\n",
    "state = env.reset()[0]\n",
    "for t in range(1000):\n",
    "    env.render()\n",
    "    action, _ = policy.act(state)\n",
    "    state, reward, done, _, _ = env.step(action)\n",
    "    if done:\n",
    "        break\n",
    "env.close()"
   ]
  },
  {
   "cell_type": "code",
   "execution_count": null,
   "id": "5f457eb4-7d02-4443-9f6a-519c16b3b4a3",
   "metadata": {},
   "outputs": [],
   "source": []
  }
 ],
 "metadata": {
  "kernelspec": {
   "display_name": "Python 3 (ipykernel)",
   "language": "python",
   "name": "python3"
  },
  "language_info": {
   "codemirror_mode": {
    "name": "ipython",
    "version": 3
   },
   "file_extension": ".py",
   "mimetype": "text/x-python",
   "name": "python",
   "nbconvert_exporter": "python",
   "pygments_lexer": "ipython3",
   "version": "3.9.5"
  }
 },
 "nbformat": 4,
 "nbformat_minor": 5
}
